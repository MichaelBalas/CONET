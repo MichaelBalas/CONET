{
 "cells": [
  {
   "cell_type": "code",
   "execution_count": 12,
   "metadata": {
    "scrolled": true
   },
   "outputs": [],
   "source": [
    "import conet \n",
    "import conet.src.synthetic_data.ratios_distribution as rd\n",
    "import conet.src.synthetic_data.data_generator as dg"
   ]
  },
  {
   "cell_type": "code",
   "execution_count": 18,
   "metadata": {},
   "outputs": [],
   "source": [
    "data_generator = dg.DataGenerator()\n",
    "ratios_distribution = rd.RatiosDistribution([0.2, 0.5, 0.3], [1.0, 3, 2.5], [0.1, 0.6, 0.3], 0.3)\n",
    "tree = data_generator.generate_random_tree(no_loci=40, tree_size=20)\n",
    "input_data = data_generator.generate_random_ratios(no_loci=40, tree=tree, ratios_distribution=ratios_distribution, no_of_cells=80)\n",
    "input_data.save(\"./\")"
   ]
  },
  {
   "cell_type": "code",
   "execution_count": null,
   "metadata": {},
   "outputs": [],
   "source": []
  },
  {
   "cell_type": "code",
   "execution_count": null,
   "metadata": {},
   "outputs": [],
   "source": []
  }
 ],
 "metadata": {
  "kernelspec": {
   "display_name": "Python 3",
   "language": "python",
   "name": "python3"
  }
 },
 "nbformat": 4,
 "nbformat_minor": 4
}
