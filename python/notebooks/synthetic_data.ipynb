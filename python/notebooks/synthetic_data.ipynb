{
 "cells": [
  {
   "cell_type": "code",
   "execution_count": 1,
   "metadata": {
    "scrolled": true
   },
   "outputs": [],
   "source": [
    "import sys\n",
    "sys.path.append('..')\n",
    "import conet \n",
    "import conet.src.synthetic_data.ratios_distribution as rd\n",
    "import conet.src.synthetic_data.data_generator as dg"
   ]
  },
  {
   "cell_type": "code",
   "execution_count": 2,
   "metadata": {},
   "outputs": [],
   "source": [
    "data_generator = dg.DataGenerator()\n",
    "ratios_distribution = rd.RatiosDistribution([0.2, 0.5, 0.3], [1.0, 3, 2.5], [0.1, 0.6, 0.3], 0.3)\n",
    "tree = data_generator.generate_random_tree(no_loci=40, tree_size=20)\n",
    "input_data = data_generator.generate_random_ratios(no_loci=40, tree=tree, ratios_distribution=ratios_distribution, no_of_cells=80)\n",
    "input_data.save(\"./\")"
   ]
  },
  {
   "cell_type": "code",
   "execution_count": 3,
   "metadata": {},
   "outputs": [],
   "source": [
    "import conet.src.conet as c\n",
    "import conet.src.conet_parameters as cp"
   ]
  },
  {
   "cell_type": "code",
   "execution_count": 7,
   "metadata": {},
   "outputs": [],
   "source": [
    "conet = c.CoNET(\"./CoNET\")\n",
    "params = cp.CoNETParameters()"
   ]
  },
  {
   "cell_type": "code",
   "execution_count": 9,
   "metadata": {
    "scrolled": true
   },
   "outputs": [
    {
     "name": "stdout",
     "output_type": "stream",
     "text": [
      "./CoNET ./ 100000 100000 0.0 1.0 1.0 1 12312 4 5 4 10 10 10000\n",
      "TODO\n"
     ]
    }
   ],
   "source": [
    "conet.infer_tree(params, input_data)"
   ]
  }
 ],
 "metadata": {
  "kernelspec": {
   "display_name": "Python 3",
   "language": "python",
   "name": "python3"
  },
  "language_info": {
   "codemirror_mode": {
    "name": "ipython",
    "version": 3
   },
   "file_extension": ".py",
   "mimetype": "text/x-python",
   "name": "python",
   "nbconvert_exporter": "python",
   "pygments_lexer": "ipython3",
   "version": "3.7.3"
  }
 },
 "nbformat": 4,
 "nbformat_minor": 4
}
