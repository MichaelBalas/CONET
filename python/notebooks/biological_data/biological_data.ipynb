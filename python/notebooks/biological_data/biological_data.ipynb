{
 "cells": [
  {
   "cell_type": "code",
   "execution_count": 1,
   "metadata": {},
   "outputs": [],
   "source": [
    "bin_dir = './'"
   ]
  },
  {
   "cell_type": "code",
   "execution_count": 2,
   "metadata": {},
   "outputs": [],
   "source": [
    "import sys\n",
    "import matplotlib.pyplot as plt\n",
    "from networkx.drawing.nx_pydot import graphviz_layout\n",
    "import pandas as pd\n",
    "import networkx as nx\n",
    "import seaborn as sns\n",
    "sys.path.append('..')\n",
    "import conet \n",
    "import conet.src.data_converter.data_converter as dc\n",
    "import conet.src.conet as c\n",
    "import conet.src.conet_parameters as cp\n",
    "import conet.src.inference_result as ir"
   ]
  },
  {
   "cell_type": "code",
   "execution_count": 3,
   "metadata": {},
   "outputs": [],
   "source": [
    "data_converter = dc.DataConverter(\"data/SA501X3F_filtered_corrected_counts.csv\", ',', 150000, 3095677412)"
   ]
  },
  {
   "cell_type": "code",
   "execution_count": 4,
   "metadata": {},
   "outputs": [],
   "source": [
    "breakpoint_candidates_indices = pd.read_csv('data/indices.csv', header=None, sep = ' ')[1].tolist()\n",
    "breakpoint_candidates_indices = list(map(lambda x : x - 1, breakpoint_candidates_indices))"
   ]
  },
  {
   "cell_type": "code",
   "execution_count": 17,
   "metadata": {},
   "outputs": [],
   "source": [
    "data_converter.create_CoNET_input_files(breakpoint_candidates_indices, bin_dir, chromosomes=[17,18, 20, 23], add_chr_ends_to_indices=True)"
   ]
  },
  {
   "cell_type": "code",
   "execution_count": 20,
   "metadata": {},
   "outputs": [
    {
     "name": "stdout",
     "output_type": "stream",
     "text": [
      "./CoNET ./ 50000 100000 200000 1.0 0.3 1 12312 4 5 4 10 10 10000 1\n",
      "b'Input files have been loaded succesfully\\n'\n",
      "b'Starting parameter estimation\\n'\n",
      "b'Finished parameter estimation\\n'\n",
      "b'Estimated breakpoint distribution:\\n'\n",
      "b'(weight: 1 mean: 0.101568sd: 0.412598)\\n'\n",
      "b'\\n'\n",
      "b'Estimated no-breakpoint distribution:\\n'\n",
      "b'mean: 0 sd: 0.340384\\n'\n",
      "b'\\n'\n",
      "b'State after 0 iterations:\\n'\n",
      "b'Tree size: 5\\n'\n",
      "b'Log-likelihood: 8877.59\\n'\n",
      "b'State after 10000 iterations:\\n'\n",
      "b'Tree size: 25\\n'\n",
      "b'Log-likelihood: 10239\\n'\n",
      "b'State after 20000 iterations:\\n'\n",
      "b'Tree size: 26\\n'\n",
      "b'Log-likelihood: 10295\\n'\n",
      "b'State after 30000 iterations:\\n'\n",
      "b'Tree size: 28\\n'\n",
      "b'Log-likelihood: 10317.7\\n'\n",
      "b'State after 40000 iterations:\\n'\n",
      "b'Tree size: 27\\n'\n",
      "b'Log-likelihood: 10307\\n'\n",
      "b'State after 50000 iterations:\\n'\n",
      "b'Tree size: 27\\n'\n",
      "b'Log-likelihood: 10302.7\\n'\n",
      "b'State after 60000 iterations:\\n'\n",
      "b'Tree size: 30\\n'\n",
      "b'Log-likelihood: 10737.6\\n'\n",
      "b'State after 70000 iterations:\\n'\n",
      "b'Tree size: 30\\n'\n",
      "b'Log-likelihood: 10735.4\\n'\n",
      "b'State after 80000 iterations:\\n'\n",
      "b'Tree size: 30\\n'\n",
      "b'Log-likelihood: 10735.2\\n'\n",
      "b'State after 90000 iterations:\\n'\n",
      "b'Tree size: 31\\n'\n",
      "b'Log-likelihood: 10828.4\\n'\n",
      "b'Tree inference has finished\\n'\n",
      "b''\n",
      "b''\n"
     ]
    }
   ],
   "source": [
    "conet = c.CoNET(bin_dir + \"CoNET\")\n",
    "params = cp.CoNETParameters(data_size_prior_c = 0.3, data_dir = bin_dir, counts_penalty_c=200000, param_inf_iters=50000)\n",
    "conet.infer_tree(params)"
   ]
  },
  {
   "cell_type": "code",
   "execution_count": null,
   "metadata": {},
   "outputs": [],
   "source": []
  }
 ],
 "metadata": {
  "kernelspec": {
   "display_name": "Python 3",
   "language": "python",
   "name": "python3"
  },
  "language_info": {
   "codemirror_mode": {
    "name": "ipython",
    "version": 3
   },
   "file_extension": ".py",
   "mimetype": "text/x-python",
   "name": "python",
   "nbconvert_exporter": "python",
   "pygments_lexer": "ipython3",
   "version": "3.7.3"
  }
 },
 "nbformat": 4,
 "nbformat_minor": 2
}
