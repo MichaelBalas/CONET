{
 "cells": [
  {
   "cell_type": "code",
   "execution_count": 1,
   "metadata": {},
   "outputs": [],
   "source": [
    "#Set this variable to directory containing CONET executable\n",
    "bin_dir = './'"
   ]
  },
  {
   "cell_type": "code",
   "execution_count": 2,
   "metadata": {},
   "outputs": [],
   "source": [
    "import sys\n",
    "sys.path.append('../..')\n",
    "import matplotlib.pyplot as plt\n",
    "from networkx.drawing.nx_pydot import graphviz_layout\n",
    "import pandas as pd\n",
    "import networkx as nx\n",
    "import seaborn as sns\n",
    "import conet \n",
    "import conet.src.data_converter.data_converter as dc\n",
    "import conet.src.conet as c\n",
    "import conet.src.conet_parameters as cp\n",
    "import conet.src.inference_result as ir"
   ]
  },
  {
   "cell_type": "code",
   "execution_count": 3,
   "metadata": {},
   "outputs": [],
   "source": [
    "# Use DataConverter class to convert corrected counts matrix into CONET specific input files\n",
    "data_converter = dc.DataConverter(\"data/SA501X3F_filtered_corrected_counts.csv\", \n",
    "                                  delimiter= ',', \n",
    "                                  default_bin_length = 150000, \n",
    "                                  event_length_normalizer = 3095677412,\n",
    "                                  add_chromosome_ends = True,\n",
    "                                  neutral_cn = 2.0)"
   ]
  },
  {
   "cell_type": "code",
   "execution_count": 4,
   "metadata": {},
   "outputs": [],
   "source": [
    "# DataConverter expects list of potential breakpoint candidates, here we load precalculated set of candidates\n",
    "breakpoint_candidates_indices = pd.read_csv('data/indices.csv', header=None, sep = ' ')[1].tolist()\n",
    "breakpoint_candidates_indices = list(map(lambda x : x - 1, breakpoint_candidates_indices))"
   ]
  },
  {
   "cell_type": "code",
   "execution_count": 5,
   "metadata": {},
   "outputs": [],
   "source": [
    "# Converts corrected counts matrix to CONET input files. @chromosomes parameter can be set to restrict inference to \n",
    "# a subset of chromosomes\n",
    "data_converter.create_CoNET_input_files(breakpoint_candidates_indices, bin_dir, chromosomes=[17,18, 20, 23], add_chr_ends_to_indices=True)"
   ]
  },
  {
   "cell_type": "code",
   "execution_count": 8,
   "metadata": {},
   "outputs": [
    {
     "name": "stdout",
     "output_type": "stream",
     "text": [
      "./CONET ./ 30000 200000 200000 1.0 0.5 1 21567 2 5 4 10 10 10000 1\n",
      "b'Input files have been loaded succesfully\\n'\n",
      "b'Starting parameter estimation\\n'\n",
      "b'Finished parameter estimation\\n'\n",
      "b'Estimated breakpoint distribution:\\n'\n",
      "b'(weight: 1 mean: 0.274938sd: 1.03384)\\n'\n",
      "b'\\n'\n",
      "b'Estimated no-breakpoint distribution:\\n'\n",
      "b'mean: 0 sd: 0.457687\\n'\n",
      "b'\\n'\n",
      "b'State after 0 iterations:\\n'\n",
      "b'Tree size: 3\\n'\n",
      "b'Log-likelihood: -5345.6\\n'\n",
      "b'State after 10000 iterations:\\n'\n",
      "b'Tree size: 9\\n'\n",
      "b'Log-likelihood: 1121.7\\n'\n",
      "b'State after 20000 iterations:\\n'\n",
      "b'Tree size: 9\\n'\n",
      "b'Log-likelihood: -147.855\\n'\n",
      "b'State after 30000 iterations:\\n'\n",
      "b'Tree size: 12\\n'\n",
      "b'Log-likelihood: 325.829\\n'\n",
      "b'State after 40000 iterations:\\n'\n",
      "b'Tree size: 12\\n'\n",
      "b'Log-likelihood: 534.698\\n'\n",
      "b'State after 50000 iterations:\\n'\n",
      "b'Tree size: 17\\n'\n",
      "b'Log-likelihood: 513.625\\n'\n",
      "b'State after 60000 iterations:\\n'\n",
      "b'Tree size: 16\\n'\n",
      "b'Log-likelihood: 529.454\\n'\n",
      "b'State after 70000 iterations:\\n'\n",
      "b'Tree size: 18\\n'\n",
      "b'Log-likelihood: 572.212\\n'\n",
      "b'State after 80000 iterations:\\n'\n",
      "b'Tree size: 18\\n'\n",
      "b'Log-likelihood: 656.102\\n'\n",
      "b'State after 90000 iterations:\\n'\n",
      "b'Tree size: 18\\n'\n",
      "b'Log-likelihood: 788.295\\n'\n",
      "b'State after 100000 iterations:\\n'\n",
      "b'Tree size: 20\\n'\n",
      "b'Log-likelihood: 3196.75\\n'\n",
      "b'State after 110000 iterations:\\n'\n",
      "b'Tree size: 19\\n'\n",
      "b'Log-likelihood: 3244.76\\n'\n",
      "b'State after 120000 iterations:\\n'\n",
      "b'Tree size: 20\\n'\n",
      "b'Log-likelihood: 3245.95\\n'\n",
      "b'State after 130000 iterations:\\n'\n",
      "b'Tree size: 20\\n'\n",
      "b'Log-likelihood: 3245.92\\n'\n",
      "b'State after 140000 iterations:\\n'\n",
      "b'Tree size: 20\\n'\n",
      "b'Log-likelihood: 3245.58\\n'\n",
      "b'State after 150000 iterations:\\n'\n",
      "b'Tree size: 20\\n'\n",
      "b'Log-likelihood: 3315.1\\n'\n",
      "b'State after 160000 iterations:\\n'\n",
      "b'Tree size: 20\\n'\n",
      "b'Log-likelihood: 3315.79\\n'\n",
      "b'State after 170000 iterations:\\n'\n",
      "b'Tree size: 20\\n'\n",
      "b'Log-likelihood: 3315.33\\n'\n",
      "b'State after 180000 iterations:\\n'\n",
      "b'Tree size: 17\\n'\n",
      "b'Log-likelihood: 3374.55\\n'\n",
      "b'State after 190000 iterations:\\n'\n",
      "b'Tree size: 17\\n'\n",
      "b'Log-likelihood: 3500.37\\n'\n",
      "b'Tree inference has finished\\n'\n",
      "b''\n",
      "b''\n"
     ]
    }
   ],
   "source": [
    "# this may take up to 10 minutes\n",
    "conet = c.CONET(bin_dir + \"CONET\")\n",
    "params = cp.CONETParameters(data_size_prior_c = 0.5, data_dir = bin_dir, counts_penalty_c=200000, \n",
    "                            param_inf_iters=30000, seed = 21567, mixture_size=2, pt_inf_iters=200000)\n",
    "conet.infer_tree(params)"
   ]
  },
  {
   "cell_type": "code",
   "execution_count": null,
   "metadata": {},
   "outputs": [],
   "source": []
  }
 ],
 "metadata": {
  "kernelspec": {
   "display_name": "Python 3",
   "language": "python",
   "name": "python3"
  },
  "language_info": {
   "codemirror_mode": {
    "name": "ipython",
    "version": 3
   },
   "file_extension": ".py",
   "mimetype": "text/x-python",
   "name": "python",
   "nbconvert_exporter": "python",
   "pygments_lexer": "ipython3",
   "version": "3.7.3"
  }
 },
 "nbformat": 4,
 "nbformat_minor": 2
}
